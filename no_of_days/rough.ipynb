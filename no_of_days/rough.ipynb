{
 "cells": [
  {
   "cell_type": "code",
   "execution_count": 1,
   "metadata": {},
   "outputs": [
    {
     "name": "stdout",
     "output_type": "stream",
     "text": [
      "Hello World\n"
     ]
    }
   ],
   "source": [
    "print('Hello World')"
   ]
  },
  {
   "cell_type": "code",
   "execution_count": 5,
   "metadata": {},
   "outputs": [
    {
     "name": "stdout",
     "output_type": "stream",
     "text": [
      "-6\n"
     ]
    }
   ],
   "source": [
    "from datetime import datetime\n",
    "\n",
    "date_str = '2023-10-20'\n",
    "target_date = datetime.strptime(date_str, '%Y-%m-%d')\n",
    "current_date = datetime.now()\n",
    "\n",
    "number_of_days = (target_date - current_date).days\n",
    "print(number_of_days)\n"
   ]
  },
  {
   "cell_type": "code",
   "execution_count": 5,
   "metadata": {},
   "outputs": [],
   "source": [
    "def fn_65_ADD_Total_Days(prop_num, dfGroupbyObj):\n",
    "    specificDF = dfGroupbyObj.get_group(prop_num)\n",
    "    firstDate = specificDF['Status_Date'].iloc[0]\n",
    "    target_date = datetime.strptime(firstDate, '%Y-%m-%d %H:%M:%S')\n",
    "    current_date = datetime.now()\n",
    "    number_of_days = abs((target_date - current_date).days)\n",
    "    return number_of_days"
   ]
  }
 ],
 "metadata": {
  "kernelspec": {
   "display_name": "Python 3",
   "language": "python",
   "name": "python3"
  },
  "language_info": {
   "codemirror_mode": {
    "name": "ipython",
    "version": 3
   },
   "file_extension": ".py",
   "mimetype": "text/x-python",
   "name": "python",
   "nbconvert_exporter": "python",
   "pygments_lexer": "ipython3",
   "version": "3.11.5"
  }
 },
 "nbformat": 4,
 "nbformat_minor": 2
}
